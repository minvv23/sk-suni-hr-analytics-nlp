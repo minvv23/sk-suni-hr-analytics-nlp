{
 "cells": [
  {
   "cell_type": "code",
   "execution_count": 1,
   "metadata": {},
   "outputs": [],
   "source": [
    "import re\n",
    "import pandas as pd\n",
    "import numpy as np\n",
    "import os\n",
    "import glob\n",
    "import json\n",
    "import time\n",
    "from datetime import datetime, timedelta\n",
    "import pickle\n",
    "import statsmodels.api as sm\n",
    "\n",
    "import requests\n",
    "from bs4 import BeautifulSoup\n",
    "from tqdm import tqdm\n",
    "from collections import Counter\n",
    "from itertools import chain\n",
    "import matplotlib.pyplot as plt\n",
    "import seaborn as sns\n",
    "from kss import split_sentences\n",
    "from operator import itemgetter\n",
    "\n",
    "def pickle_reader(filename) :\n",
    "    with open(filename, 'rb') as f :\n",
    "        output_df = pickle.load(f)\n",
    "    return output_df\n",
    "\n",
    "def pickle_writer(objecttosave, filename) :\n",
    "    with open(filename, 'wb') as f :\n",
    "        pickle.dump(objecttosave, f, protocol=5)\n",
    "        \n",
    "basic_header = {'User-Agent':'Mozilla/5.0 (Macintosh; Intel Mac OS X 10_9_5)\\AppleWebKit 537.36 (KHTML, like Gecko) Chrome',\n",
    "                'Accept':'text/html,application/xhtml+xml,application/xml;q=0.9,image/webp,image/apng,*/*;q=0.8,application/signed-exchange;v=b3;q=0.9'}"
   ]
  },
  {
   "cell_type": "markdown",
   "metadata": {
    "tags": []
   },
   "source": [
    "### 1. 데이터 호출 및 전처리"
   ]
  },
  {
   "cell_type": "code",
   "execution_count": 2,
   "metadata": {},
   "outputs": [],
   "source": [
    "jobplanetdf = pd.read_csv('./data/20211122_jobplanet_review.csv', index_col=0)\n",
    "newsdf = pd.read_csv('./data/20211124_companywelfare_newsdf.csv', index_col=0)"
   ]
  },
  {
   "cell_type": "markdown",
   "metadata": {
    "tags": []
   },
   "source": [
    "### 2. 사전 기반 알고리즘은 왜 성능이 좋지 않을까?"
   ]
  },
  {
   "cell_type": "code",
   "execution_count": 3,
   "metadata": {},
   "outputs": [],
   "source": [
    "textdf = \\\n",
    "pd.concat([pd.DataFrame(jobplanetdf[jobplanetdf['label']==1]['good'].rename('text')).assign(label=1),\n",
    "           pd.DataFrame(jobplanetdf[jobplanetdf['label']==0]['bad'].rename('text')).assign(label=0)], axis=0, ignore_index=True)\n",
    "\n",
    "np.random.seed(0)\n",
    "textdf = textdf.sample(frac=1).reset_index(drop=True)"
   ]
  },
  {
   "cell_type": "code",
   "execution_count": 4,
   "metadata": {},
   "outputs": [],
   "source": [
    "negative_dict = \\\n",
    "['나쁜', '별로', '최악', '구린', '꼰대', '박봉', '수직적', '하락', '위계적', '하향', '부족', '정치']"
   ]
  },
  {
   "cell_type": "code",
   "execution_count": 5,
   "metadata": {},
   "outputs": [],
   "source": [
    "from sklearn.metrics import confusion_matrix, f1_score, accuracy_score"
   ]
  },
  {
   "cell_type": "code",
   "execution_count": 6,
   "metadata": {},
   "outputs": [
    {
     "data": {
      "text/plain": [
       "0.7627494456762749"
      ]
     },
     "execution_count": 6,
     "metadata": {},
     "output_type": "execute_result"
    }
   ],
   "source": [
    "f1_score(np.where(textdf['text'].str.contains('|'.join(negative_dict)), 0, 1), textdf['label'])"
   ]
  },
  {
   "cell_type": "markdown",
   "metadata": {},
   "source": [
    "### 3. 토큰화(Tokenization)"
   ]
  },
  {
   "cell_type": "code",
   "execution_count": 7,
   "metadata": {},
   "outputs": [],
   "source": [
    "corpus = pd.concat([jobplanetdf['good'], jobplanetdf['bad'], newsdf['title'], newsdf['content']], axis=0, ignore_index=True)\n",
    "corpus = corpus.str.replace('\\[(.*?)\\]', '')\n",
    "corpus = corpus.str.split().str.join(' ')"
   ]
  },
  {
   "cell_type": "code",
   "execution_count": 8,
   "metadata": {},
   "outputs": [],
   "source": [
    "from tokenizers import SentencePieceBPETokenizer\n",
    "bpe_tokenizer = SentencePieceBPETokenizer()\n",
    "bpe_tokenizer.train_from_iterator(corpus)"
   ]
  },
  {
   "cell_type": "code",
   "execution_count": 9,
   "metadata": {},
   "outputs": [
    {
     "data": {
      "text/plain": [
       "['▁이', '회사는', '연봉', '상승', '률이', '▁너무', '▁', '니다']"
      ]
     },
     "execution_count": 9,
     "metadata": {},
     "output_type": "execute_result"
    }
   ],
   "source": [
    "bpe_tokenizer.encode('이회사는연봉상승률이 너무 짭니다').tokens"
   ]
  },
  {
   "cell_type": "code",
   "execution_count": 10,
   "metadata": {},
   "outputs": [
    {
     "data": {
      "text/plain": [
       "['./model\\\\company_tokenizer-vocab.json',\n",
       " './model\\\\company_tokenizer-merges.txt']"
      ]
     },
     "execution_count": 10,
     "metadata": {},
     "output_type": "execute_result"
    }
   ],
   "source": [
    "bpe_tokenizer.save_model('./model', 'company_tokenizer')"
   ]
  },
  {
   "cell_type": "code",
   "execution_count": 11,
   "metadata": {},
   "outputs": [],
   "source": [
    "bpe_tokenizer = \\\n",
    "SentencePieceBPETokenizer('./model/company_tokenizer-vocab.json',\n",
    "                          './model/company_tokenizer-merges.txt')"
   ]
  },
  {
   "cell_type": "code",
   "execution_count": 12,
   "metadata": {},
   "outputs": [
    {
     "name": "stderr",
     "output_type": "stream",
     "text": [
      "100%|██████████████████████████████████████████████████████████████████████████| 14078/14078 [00:06<00:00, 2253.87it/s]\n"
     ]
    }
   ],
   "source": [
    "pos_corpus = [bpe_tokenizer.encode(sent).tokens for sent in tqdm(corpus)]"
   ]
  },
  {
   "cell_type": "markdown",
   "metadata": {},
   "source": [
    "### 4. 단어-벡터 임베딩(Tokenization)"
   ]
  },
  {
   "cell_type": "code",
   "execution_count": 13,
   "metadata": {},
   "outputs": [],
   "source": [
    "from gensim.test.utils import common_texts\n",
    "from gensim.models import Word2Vec, FastText\n",
    "\n",
    "w2v_model = Word2Vec(pos_corpus, sg=1, epochs=7)\n",
    "ft_model = FastText(pos_corpus, sg=1, epochs=7)\n",
    "\n",
    "w2v_model.save('./model/word2vec.model')\n",
    "ft_model.save('./model/fasttext.model')"
   ]
  },
  {
   "cell_type": "code",
   "execution_count": 14,
   "metadata": {},
   "outputs": [],
   "source": [
    "w2v_model = Word2Vec.load('./model/word2vec.model')\n",
    "ft_model = FastText.load('./model/fasttext.model')"
   ]
  },
  {
   "cell_type": "code",
   "execution_count": 15,
   "metadata": {},
   "outputs": [
    {
     "data": {
      "text/plain": [
       "array([-0.3045936 ,  0.24693088,  0.14991562, -0.19427846,  0.02942798,\n",
       "       -0.5580456 ,  0.36470547,  0.603408  ,  0.02112223, -0.2710036 ,\n",
       "        0.23175699, -0.51069605, -0.12321895, -0.06243563,  0.25831795,\n",
       "       -0.48998237, -0.12501289, -0.09887471,  0.21377285, -0.17097631,\n",
       "        0.05593832,  0.03498149, -0.5302111 , -0.03486763, -0.36997467,\n",
       "       -0.00781262, -0.14409682,  0.30812708,  0.4147889 , -0.10641888,\n",
       "       -0.3635585 ,  0.28883496,  0.30548534,  0.1190175 , -0.55669063,\n",
       "        0.1307146 ,  0.37754717, -0.33167517, -0.27467594,  0.6216755 ,\n",
       "        0.01451701,  0.01517205, -0.3401161 , -0.4441151 ,  0.1682369 ,\n",
       "        0.11139352,  0.27253142, -0.08971144, -0.41238874,  0.1733015 ,\n",
       "        0.2512298 , -0.23599195, -0.1531766 ,  0.3504402 , -0.40995514,\n",
       "       -0.02472387,  0.32006145, -0.28731182,  0.05471123,  0.47436896,\n",
       "       -0.09398881, -0.11160287, -0.05029441, -0.2770624 ,  0.65167373,\n",
       "        0.21116589,  0.13485175,  0.57634723,  0.01546386,  0.17070876,\n",
       "       -0.1379099 ,  0.27813083, -0.39387235, -0.1278286 ,  0.20403019,\n",
       "        0.01007542,  0.0099583 ,  0.13418217, -0.47586468,  0.08089361,\n",
       "       -0.20546791, -0.23216157,  0.12993924,  0.25553545, -0.00308815,\n",
       "        0.35281962, -0.19471022,  0.5152482 , -0.20529555, -0.19216609,\n",
       "        0.26486462, -0.04089018, -0.19269195, -0.28788924,  0.2573706 ,\n",
       "        0.26586825,  0.1823074 , -0.04196529,  0.07831817, -0.50330734],\n",
       "      dtype=float32)"
      ]
     },
     "execution_count": 15,
     "metadata": {},
     "output_type": "execute_result"
    }
   ],
   "source": [
    "w2v_model.wv['연봉']"
   ]
  },
  {
   "cell_type": "code",
   "execution_count": 16,
   "metadata": {},
   "outputs": [
    {
     "ename": "KeyError",
     "evalue": "\"Key '고인물' not present\"",
     "output_type": "error",
     "traceback": [
      "\u001b[1;31m---------------------------------------------------------------------------\u001b[0m",
      "\u001b[1;31mKeyError\u001b[0m                                  Traceback (most recent call last)",
      "\u001b[1;32m<ipython-input-16-cd2b247d7d44>\u001b[0m in \u001b[0;36m<module>\u001b[1;34m\u001b[0m\n\u001b[1;32m----> 1\u001b[1;33m \u001b[0mw2v_model\u001b[0m\u001b[1;33m.\u001b[0m\u001b[0mwv\u001b[0m\u001b[1;33m[\u001b[0m\u001b[1;34m'고인물'\u001b[0m\u001b[1;33m]\u001b[0m\u001b[1;33m\u001b[0m\u001b[0m\n\u001b[0m",
      "\u001b[1;32m~\\Anaconda3\\lib\\site-packages\\gensim\\models\\keyedvectors.py\u001b[0m in \u001b[0;36m__getitem__\u001b[1;34m(self, key_or_keys)\u001b[0m\n\u001b[0;32m    393\u001b[0m         \"\"\"\n\u001b[0;32m    394\u001b[0m         \u001b[1;32mif\u001b[0m \u001b[0misinstance\u001b[0m\u001b[1;33m(\u001b[0m\u001b[0mkey_or_keys\u001b[0m\u001b[1;33m,\u001b[0m \u001b[0m_KEY_TYPES\u001b[0m\u001b[1;33m)\u001b[0m\u001b[1;33m:\u001b[0m\u001b[1;33m\u001b[0m\u001b[0m\n\u001b[1;32m--> 395\u001b[1;33m             \u001b[1;32mreturn\u001b[0m \u001b[0mself\u001b[0m\u001b[1;33m.\u001b[0m\u001b[0mget_vector\u001b[0m\u001b[1;33m(\u001b[0m\u001b[0mkey_or_keys\u001b[0m\u001b[1;33m)\u001b[0m\u001b[1;33m\u001b[0m\u001b[0m\n\u001b[0m\u001b[0;32m    396\u001b[0m \u001b[1;33m\u001b[0m\u001b[0m\n\u001b[0;32m    397\u001b[0m         \u001b[1;32mreturn\u001b[0m \u001b[0mvstack\u001b[0m\u001b[1;33m(\u001b[0m\u001b[1;33m[\u001b[0m\u001b[0mself\u001b[0m\u001b[1;33m.\u001b[0m\u001b[0mget_vector\u001b[0m\u001b[1;33m(\u001b[0m\u001b[0mkey\u001b[0m\u001b[1;33m)\u001b[0m \u001b[1;32mfor\u001b[0m \u001b[0mkey\u001b[0m \u001b[1;32min\u001b[0m \u001b[0mkey_or_keys\u001b[0m\u001b[1;33m]\u001b[0m\u001b[1;33m)\u001b[0m\u001b[1;33m\u001b[0m\u001b[0m\n",
      "\u001b[1;32m~\\Anaconda3\\lib\\site-packages\\gensim\\models\\keyedvectors.py\u001b[0m in \u001b[0;36mget_vector\u001b[1;34m(self, key, norm)\u001b[0m\n\u001b[0;32m    436\u001b[0m \u001b[1;33m\u001b[0m\u001b[0m\n\u001b[0;32m    437\u001b[0m         \"\"\"\n\u001b[1;32m--> 438\u001b[1;33m         \u001b[0mindex\u001b[0m \u001b[1;33m=\u001b[0m \u001b[0mself\u001b[0m\u001b[1;33m.\u001b[0m\u001b[0mget_index\u001b[0m\u001b[1;33m(\u001b[0m\u001b[0mkey\u001b[0m\u001b[1;33m)\u001b[0m\u001b[1;33m\u001b[0m\u001b[0m\n\u001b[0m\u001b[0;32m    439\u001b[0m         \u001b[1;32mif\u001b[0m \u001b[0mnorm\u001b[0m\u001b[1;33m:\u001b[0m\u001b[1;33m\u001b[0m\u001b[0m\n\u001b[0;32m    440\u001b[0m             \u001b[0mself\u001b[0m\u001b[1;33m.\u001b[0m\u001b[0mfill_norms\u001b[0m\u001b[1;33m(\u001b[0m\u001b[1;33m)\u001b[0m\u001b[1;33m\u001b[0m\u001b[0m\n",
      "\u001b[1;32m~\\Anaconda3\\lib\\site-packages\\gensim\\models\\keyedvectors.py\u001b[0m in \u001b[0;36mget_index\u001b[1;34m(self, key, default)\u001b[0m\n\u001b[0;32m    410\u001b[0m             \u001b[1;32mreturn\u001b[0m \u001b[0mdefault\u001b[0m\u001b[1;33m\u001b[0m\u001b[0m\n\u001b[0;32m    411\u001b[0m         \u001b[1;32melse\u001b[0m\u001b[1;33m:\u001b[0m\u001b[1;33m\u001b[0m\u001b[0m\n\u001b[1;32m--> 412\u001b[1;33m             \u001b[1;32mraise\u001b[0m \u001b[0mKeyError\u001b[0m\u001b[1;33m(\u001b[0m\u001b[1;34mf\"Key '{key}' not present\"\u001b[0m\u001b[1;33m)\u001b[0m\u001b[1;33m\u001b[0m\u001b[0m\n\u001b[0m\u001b[0;32m    413\u001b[0m \u001b[1;33m\u001b[0m\u001b[0m\n\u001b[0;32m    414\u001b[0m     \u001b[1;32mdef\u001b[0m \u001b[0mget_vector\u001b[0m\u001b[1;33m(\u001b[0m\u001b[0mself\u001b[0m\u001b[1;33m,\u001b[0m \u001b[0mkey\u001b[0m\u001b[1;33m,\u001b[0m \u001b[0mnorm\u001b[0m\u001b[1;33m=\u001b[0m\u001b[1;32mFalse\u001b[0m\u001b[1;33m)\u001b[0m\u001b[1;33m:\u001b[0m\u001b[1;33m\u001b[0m\u001b[0m\n",
      "\u001b[1;31mKeyError\u001b[0m: \"Key '고인물' not present\""
     ]
    }
   ],
   "source": [
    "w2v_model.wv['고인물']"
   ]
  },
  {
   "cell_type": "code",
   "execution_count": 17,
   "metadata": {},
   "outputs": [
    {
     "data": {
      "text/plain": [
       "array([-0.0965476 ,  0.04265649,  0.20970912, -0.11436263, -0.07362945,\n",
       "       -0.15878826, -0.08139955,  0.08280712, -0.08363578, -0.07037161,\n",
       "        0.08758793, -0.01722459, -0.04463173,  0.03919538,  0.10181395,\n",
       "       -0.04534522,  0.1079892 ,  0.005405  , -0.02099776, -0.05251576,\n",
       "       -0.08790803,  0.05344651,  0.02138226, -0.16532232, -0.03179331,\n",
       "       -0.09447569,  0.01245358,  0.19224785,  0.17586099,  0.08797318,\n",
       "       -0.07642836, -0.06394865, -0.19346134,  0.17152007, -0.07800832,\n",
       "       -0.01796177,  0.0741407 ,  0.01764975, -0.10188123,  0.11379147,\n",
       "       -0.02929472, -0.02628394, -0.10384399, -0.08732098,  0.02019322,\n",
       "        0.04238122,  0.01734072, -0.19451149, -0.06206492,  0.04358501,\n",
       "       -0.1237733 , -0.0689846 , -0.00496455,  0.04128155, -0.0274299 ,\n",
       "       -0.10521095,  0.13660187, -0.1518419 ,  0.0666372 ,  0.13695988,\n",
       "        0.09532055, -0.05728863, -0.06408585,  0.15336484,  0.03646451,\n",
       "        0.02260339,  0.00561686,  0.06553128, -0.17305465,  0.0374016 ,\n",
       "       -0.03295486, -0.04927528, -0.00449882, -0.04060259,  0.01546423,\n",
       "        0.12501511, -0.01588114,  0.09721086, -0.01054256,  0.09320103,\n",
       "       -0.04863164, -0.02578495,  0.02315559,  0.00136838, -0.05813307,\n",
       "       -0.0140196 , -0.01742236, -0.1370622 ,  0.171881  ,  0.10642656,\n",
       "        0.11643096,  0.12467251, -0.15700914, -0.17931871, -0.00608972,\n",
       "       -0.12340752,  0.02699281,  0.05038596, -0.01691747, -0.00130866],\n",
       "      dtype=float32)"
      ]
     },
     "execution_count": 17,
     "metadata": {},
     "output_type": "execute_result"
    }
   ],
   "source": [
    "ft_model.wv['고인물']"
   ]
  },
  {
   "cell_type": "code",
   "execution_count": 18,
   "metadata": {},
   "outputs": [
    {
     "data": {
      "text/plain": [
       "[('▁고인물', 0.8431247472763062),\n",
       " ('▁꼰대', 0.7812214493751526),\n",
       " ('으신', 0.7570650577545166),\n",
       " ('▁맛집', 0.7554405331611633),\n",
       " ('아서', 0.7437090277671814),\n",
       " ('▁윗', 0.739393949508667),\n",
       " ('▁꼰대가', 0.7362608909606934),\n",
       " ('▁고인물이', 0.733004629611969),\n",
       " ('시절', 0.725588321685791),\n",
       " ('▁싸', 0.7252355217933655)]"
      ]
     },
     "execution_count": 18,
     "metadata": {},
     "output_type": "execute_result"
    }
   ],
   "source": [
    "ft_model.wv.most_similar('고인물')"
   ]
  },
  {
   "cell_type": "code",
   "execution_count": 19,
   "metadata": {},
   "outputs": [
    {
     "data": {
      "text/plain": [
       "[('▁비정규직', 0.9578745365142822),\n",
       " ('정규직', 0.917824923992157),\n",
       " ('▁정규직', 0.837492048740387),\n",
       " ('▁정규직과', 0.7432001829147339),\n",
       " ('계약직', 0.7379484176635742),\n",
       " ('▁자영업', 0.7310437560081482),\n",
       " ('▁교사의', 0.7232523560523987),\n",
       " ('▁계약직', 0.7094197869300842),\n",
       " ('업종', 0.704563319683075),\n",
       " ('▁저임금', 0.6973295211791992)]"
      ]
     },
     "execution_count": 19,
     "metadata": {},
     "output_type": "execute_result"
    }
   ],
   "source": [
    "ft_model.wv.most_similar('비정규직')"
   ]
  },
  {
   "cell_type": "code",
   "execution_count": 20,
   "metadata": {},
   "outputs": [
    {
     "data": {
      "text/plain": [
       "0.7379484"
      ]
     },
     "execution_count": 20,
     "metadata": {},
     "output_type": "execute_result"
    }
   ],
   "source": [
    "ft_model.wv.similarity('계약직', '비정규직')"
   ]
  },
  {
   "cell_type": "code",
   "execution_count": 21,
   "metadata": {},
   "outputs": [
    {
     "data": {
      "text/plain": [
       "0.29617518"
      ]
     },
     "execution_count": 21,
     "metadata": {},
     "output_type": "execute_result"
    }
   ],
   "source": [
    "ft_model.wv.similarity('계약직', '육아휴직')"
   ]
  },
  {
   "cell_type": "code",
   "execution_count": 22,
   "metadata": {},
   "outputs": [
    {
     "data": {
      "text/plain": [
       "0.6617119"
      ]
     },
     "execution_count": 22,
     "metadata": {},
     "output_type": "execute_result"
    }
   ],
   "source": [
    "ft_model.wv.similarity('출산', '육아휴직')"
   ]
  },
  {
   "cell_type": "markdown",
   "metadata": {},
   "source": [
    "### 5. 문장 분류 (Document Classification)"
   ]
  },
  {
   "cell_type": "code",
   "execution_count": 23,
   "metadata": {},
   "outputs": [
    {
     "data": {
      "text/plain": [
       "(100,)"
      ]
     },
     "execution_count": 23,
     "metadata": {},
     "output_type": "execute_result"
    }
   ],
   "source": [
    "tokens = bpe_tokenizer.encode('이 회사는연봉상승이 너무 짜다').tokens\n",
    "embedding = np.mean([ft_model.wv[tk] for tk in tokens], axis=0)\n",
    "embedding.shape"
   ]
  },
  {
   "cell_type": "code",
   "execution_count": 24,
   "metadata": {},
   "outputs": [],
   "source": [
    "def text_to_embedding(input_sent) :\n",
    "    tokens = bpe_tokenizer.encode(input_sent).tokens\n",
    "    embedding = np.mean([ft_model.wv[tk] for tk in tokens], axis=0)\n",
    "    return embedding"
   ]
  },
  {
   "cell_type": "code",
   "execution_count": 25,
   "metadata": {},
   "outputs": [
    {
     "name": "stderr",
     "output_type": "stream",
     "text": [
      "100%|████████████████████████████████████████████████████████████████████████████| 2123/2123 [00:00<00:00, 5203.23it/s]\n"
     ]
    }
   ],
   "source": [
    "textdf['embedding'] = [text_to_embedding(text) for text in tqdm(textdf['text'])]"
   ]
  },
  {
   "cell_type": "code",
   "execution_count": 26,
   "metadata": {},
   "outputs": [],
   "source": [
    "from sklearn.model_selection import train_test_split\n",
    "from sklearn.linear_model import LogisticRegression\n",
    "from sklearn.ensemble import RandomForestClassifier\n",
    "from sklearn import svm"
   ]
  },
  {
   "cell_type": "code",
   "execution_count": 27,
   "metadata": {},
   "outputs": [],
   "source": [
    "np.random.seed(0)\n",
    "X_train, X_test, y_train, y_test =\\\n",
    "train_test_split(np.vstack(textdf['embedding'].values), textdf['label'].values, test_size=.25, random_state=0)"
   ]
  },
  {
   "cell_type": "code",
   "execution_count": 28,
   "metadata": {},
   "outputs": [
    {
     "data": {
      "text/plain": [
       "RandomForestClassifier(oob_score=True, random_state=0)"
      ]
     },
     "execution_count": 28,
     "metadata": {},
     "output_type": "execute_result"
    }
   ],
   "source": [
    "# Logistic Regression\n",
    "lr_clf = LogisticRegression()\n",
    "lr_clf.fit(X_train, y_train)\n",
    "\n",
    "# Support Vector Machine\n",
    "svm_clf = svm.SVC()\n",
    "svm_clf.fit(X_train, y_train)\n",
    "\n",
    "# Random Forest\n",
    "rf_clf = RandomForestClassifier(n_estimators=100, oob_score=True, random_state=0)\n",
    "rf_clf.fit(X_train, y_train)"
   ]
  },
  {
   "cell_type": "code",
   "execution_count": 29,
   "metadata": {},
   "outputs": [
    {
     "data": {
      "text/plain": [
       "(0.8926553672316384, 0.905785123966942)"
      ]
     },
     "execution_count": 29,
     "metadata": {},
     "output_type": "execute_result"
    }
   ],
   "source": [
    "accuracy_score(y_test, lr_clf.predict(X_test)), f1_score(y_test, lr_clf.predict(X_test))"
   ]
  },
  {
   "cell_type": "code",
   "execution_count": 30,
   "metadata": {},
   "outputs": [
    {
     "data": {
      "text/plain": [
       "(0.9001883239171374, 0.9115191986644408)"
      ]
     },
     "execution_count": 30,
     "metadata": {},
     "output_type": "execute_result"
    }
   ],
   "source": [
    "accuracy_score(y_test, svm_clf.predict(X_test)), f1_score(y_test, svm_clf.predict(X_test))"
   ]
  },
  {
   "cell_type": "code",
   "execution_count": 31,
   "metadata": {},
   "outputs": [
    {
     "data": {
      "text/plain": [
       "(0.864406779661017, 0.8842443729903537)"
      ]
     },
     "execution_count": 31,
     "metadata": {},
     "output_type": "execute_result"
    }
   ],
   "source": [
    "accuracy_score(y_test, rf_clf.predict(X_test)), f1_score(y_test, rf_clf.predict(X_test))"
   ]
  },
  {
   "cell_type": "code",
   "execution_count": 32,
   "metadata": {},
   "outputs": [],
   "source": [
    "def hr_sentiment_classifier(input_sent) :\n",
    "    embedding = text_to_embedding(input_sent)\n",
    "    output = svm_clf.predict(embedding.reshape(1,-1))[0]\n",
    "    return output    "
   ]
  },
  {
   "cell_type": "code",
   "execution_count": 33,
   "metadata": {},
   "outputs": [
    {
     "data": {
      "text/plain": [
       "1"
      ]
     },
     "execution_count": 33,
     "metadata": {},
     "output_type": "execute_result"
    }
   ],
   "source": [
    "hr_sentiment_classifier('자유분방하고 수평적인 분위기')"
   ]
  },
  {
   "cell_type": "code",
   "execution_count": 34,
   "metadata": {},
   "outputs": [
    {
     "data": {
      "text/plain": [
       "0"
      ]
     },
     "execution_count": 34,
     "metadata": {},
     "output_type": "execute_result"
    }
   ],
   "source": [
    "hr_sentiment_classifier('연봉이 거의 안 오름')"
   ]
  },
  {
   "cell_type": "code",
   "execution_count": 35,
   "metadata": {},
   "outputs": [
    {
     "data": {
      "text/plain": [
       "1"
      ]
     },
     "execution_count": 35,
     "metadata": {},
     "output_type": "execute_result"
    }
   ],
   "source": [
    "hr_sentiment_classifier('초봉이 높아서 만족')"
   ]
  },
  {
   "cell_type": "code",
   "execution_count": 36,
   "metadata": {},
   "outputs": [
    {
     "data": {
      "text/plain": [
       "0"
      ]
     },
     "execution_count": 36,
     "metadata": {},
     "output_type": "execute_result"
    }
   ],
   "source": [
    "hr_sentiment_classifier('적어도 내가 속한 팀은 꼰대 쌉쓰레기임')"
   ]
  },
  {
   "cell_type": "code",
   "execution_count": 37,
   "metadata": {},
   "outputs": [
    {
     "data": {
      "text/plain": [
       "0"
      ]
     },
     "execution_count": 37,
     "metadata": {},
     "output_type": "execute_result"
    }
   ],
   "source": [
    "hr_sentiment_classifier('월급 꿀빨 고인물들 너무 많음')"
   ]
  },
  {
   "cell_type": "code",
   "execution_count": 38,
   "metadata": {},
   "outputs": [
    {
     "data": {
      "text/plain": [
       "0"
      ]
     },
     "execution_count": 38,
     "metadata": {},
     "output_type": "execute_result"
    }
   ],
   "source": [
    "hr_sentiment_classifier('믿음직하고 배울점 많은 선배들')"
   ]
  },
  {
   "cell_type": "code",
   "execution_count": 39,
   "metadata": {},
   "outputs": [
    {
     "data": {
      "text/plain": [
       "0"
      ]
     },
     "execution_count": 39,
     "metadata": {},
     "output_type": "execute_result"
    }
   ],
   "source": [
    "hr_sentiment_classifier('여긴 천국이야')"
   ]
  },
  {
   "cell_type": "code",
   "execution_count": 40,
   "metadata": {},
   "outputs": [
    {
     "data": {
      "text/plain": [
       "0"
      ]
     },
     "execution_count": 40,
     "metadata": {},
     "output_type": "execute_result"
    }
   ],
   "source": [
    "hr_sentiment_classifier('여기서는 2년 넘게 있으면 안 되는거 다들 알죠? ^오^')"
   ]
  }
 ],
 "metadata": {
  "kernelspec": {
   "display_name": "Python 3",
   "language": "python",
   "name": "python3"
  },
  "language_info": {
   "codemirror_mode": {
    "name": "ipython",
    "version": 3
   },
   "file_extension": ".py",
   "mimetype": "text/x-python",
   "name": "python",
   "nbconvert_exporter": "python",
   "pygments_lexer": "ipython3",
   "version": "3.7.0"
  }
 },
 "nbformat": 4,
 "nbformat_minor": 4
}
